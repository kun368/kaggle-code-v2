{
 "cells": [
  {
   "cell_type": "code",
   "execution_count": 22,
   "metadata": {
    "collapsed": true
   },
   "outputs": [],
   "source": [
    "# !kaggle competitions download -c quora-question-pairs\n",
    "# !pip install diff_match_patch"
   ]
  },
  {
   "cell_type": "code",
   "execution_count": 22,
   "outputs": [],
   "source": [
    "import fasttext.util\n",
    "import pandas as pd\n",
    "from sklearn.metrics import classification_report, log_loss\n",
    "from sklearn.model_selection import train_test_split\n",
    "\n",
    "from utils.common import compress_read\n",
    "from utils.shared_code import to_kaggle_submission"
   ],
   "metadata": {
    "collapsed": false,
    "pycharm": {
     "name": "#%%\n"
    }
   }
  },
  {
   "cell_type": "code",
   "source": [
    "train_df = compress_read('./data/train.csv')\n",
    "pred_df = compress_read('./data/test.csv')\n",
    "sample_submission_df = compress_read('./data/sample_submission.csv')"
   ],
   "metadata": {
    "collapsed": false,
    "pycharm": {
     "name": "#%%\n"
    }
   },
   "execution_count": 2,
   "outputs": []
  },
  {
   "cell_type": "code",
   "execution_count": 17,
   "outputs": [],
   "source": [
    "\n",
    "def generate_text(a, b):\n",
    "    question1 = str(a).replace('\\n', ' ')\n",
    "    question2 = str(b).replace('\\n', ' ')\n",
    "    if not question1 or not question2:\n",
    "        return None\n",
    "    split1 = {w.lower() for w in question1.split(' ')}\n",
    "    split2 = {w.lower() for w in question2.split(' ')}\n",
    "    text = set()\n",
    "    text |= {t for t in split1 & split2}\n",
    "    text |= {'$' + t for t in split1 ^ split2}\n",
    "    return ' '.join(text)\n",
    "\n",
    "\n",
    "def generate_texts_df(input_dicts):\n",
    "    text_list = []\n",
    "    for i in input_dicts:\n",
    "        label = '__label__' + str(i['is_duplicate'])\n",
    "        x = generate_text(i['question1'], i['question2'])\n",
    "        if x: text_list.append({'label': label, 'text': x})\n",
    "    return pd.DataFrame(text_list)\n",
    "\n",
    "\n",
    "train_dict, test_dict = train_test_split(train_df.sample(frac=1.0).to_dict(orient='records'), test_size=0.2)\n",
    "generate_texts_df(train_dict).to_csv('ft_train.txt', header=False, index=False, sep='\\t')"
   ],
   "metadata": {
    "collapsed": false,
    "pycharm": {
     "name": "#%%\n"
    }
   }
  },
  {
   "cell_type": "code",
   "execution_count": 18,
   "outputs": [],
   "source": [
    "model = fasttext.train_supervised(\n",
    "    'ft_train.txt',\n",
    "    label_prefix=\"__label__\",\n",
    "    lr=0.1,\n",
    "    epoch=5,\n",
    "    verbose=2,\n",
    "    minCount=3,\n",
    ")"
   ],
   "metadata": {
    "collapsed": false,
    "pycharm": {
     "name": "#%%\n"
    }
   }
  },
  {
   "cell_type": "code",
   "execution_count": 19,
   "outputs": [
    {
     "name": "stdout",
     "output_type": "stream",
     "text": [
      "              precision    recall  f1-score   support\n",
      "\n",
      "           0     0.8405    0.8724    0.8562     50916\n",
      "           1     0.7681    0.7185    0.7425     29942\n",
      "\n",
      "    accuracy                         0.8154     80858\n",
      "   macro avg     0.8043    0.7955    0.7993     80858\n",
      "weighted avg     0.8137    0.8154    0.8141     80858\n",
      "\n",
      "0.41794484548691613\n"
     ]
    }
   ],
   "source": [
    "y_true = []\n",
    "y_pred = []\n",
    "y_pred_score = []\n",
    "for i in generate_texts_df(test_dict).to_dict(orient='records'):\n",
    "    words = str(i['text'])\n",
    "    label = 0 if str(i['label']) == '__label__0' else 1\n",
    "    pred = model.predict(words, k=1)\n",
    "    label_hat = 0 if pred[0][0] == '__label__0' else 1\n",
    "    label_score = pred[1][0] if label_hat == 1 else 1 - pred[1][0]\n",
    "    y_true.append(label)\n",
    "    y_pred.append(label_hat)\n",
    "    y_pred_score.append(label_score)\n",
    "\n",
    "print(classification_report(y_true, y_pred, digits=4))\n",
    "print(log_loss(y_true, y_pred_score))"
   ],
   "metadata": {
    "collapsed": false,
    "pycharm": {
     "name": "#%%\n"
    }
   }
  },
  {
   "cell_type": "code",
   "execution_count": 20,
   "outputs": [],
   "source": [
    "submission = []\n",
    "for i in pred_df.to_dict(orient='records'):\n",
    "    words = generate_text(i['question1'], i['question2'])\n",
    "    pred = model.predict(words, k=1)\n",
    "    label_hat = 0 if pred[0][0] == '__label__0' else 1\n",
    "    label_score = pred[1][0] if label_hat == 1 else 1 - pred[1][0]\n",
    "    submission.append({\n",
    "        'test_id': i['test_id'],\n",
    "        'is_duplicate': label_score\n",
    "    })"
   ],
   "metadata": {
    "collapsed": false,
    "pycharm": {
     "name": "#%%\n"
    }
   }
  },
  {
   "cell_type": "code",
   "execution_count": 23,
   "outputs": [],
   "source": [
    "to_kaggle_submission(submission)"
   ],
   "metadata": {
    "collapsed": false,
    "pycharm": {
     "name": "#%%\n"
    }
   }
  }
 ],
 "metadata": {
  "kernelspec": {
   "display_name": "Python 3",
   "language": "python",
   "name": "python3"
  },
  "language_info": {
   "codemirror_mode": {
    "name": "ipython",
    "version": 2
   },
   "file_extension": ".py",
   "mimetype": "text/x-python",
   "name": "python",
   "nbconvert_exporter": "python",
   "pygments_lexer": "ipython2",
   "version": "2.7.6"
  }
 },
 "nbformat": 4,
 "nbformat_minor": 0
}