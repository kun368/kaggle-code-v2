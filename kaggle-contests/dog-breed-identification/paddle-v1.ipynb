{
 "cells": [
  {
   "cell_type": "markdown",
   "metadata": {
    "pycharm": {
     "name": "#%% md\n"
    }
   },
   "source": [
    "## Prepare"
   ]
  },
  {
   "cell_type": "code",
   "execution_count": 1,
   "metadata": {
    "collapsed": true
   },
   "outputs": [],
   "source": [
    "# !kaggle competitions download -c dog-breed-identification"
   ]
  },
  {
   "cell_type": "code",
   "execution_count": 2,
   "metadata": {
    "pycharm": {
     "name": "#%%\n"
    }
   },
   "outputs": [],
   "source": [
    "import os\n",
    "import re\n",
    "import zipfile\n",
    "from collections import OrderedDict\n",
    "\n",
    "import paddle\n",
    "import pandas as pd\n",
    "from bidict import bidict\n",
    "from tqdm.notebook import tqdm\n",
    "\n",
    "from utils import shared_code"
   ]
  },
  {
   "cell_type": "code",
   "execution_count": 3,
   "metadata": {
    "pycharm": {
     "name": "#%%\n"
    }
   },
   "outputs": [
    {
     "data": {
      "text/plain": "                                 id             breed\n0  000bec180eb18c7604dcecc8fe0dba07       boston_bull\n1  001513dfcb2ffafc82cccf4d8bbaba97             dingo\n2  001cdf01b096e06d78e9e5112d419397          pekinese\n3  00214f311d5d2247d5dfe4fe24b2303d          bluetick\n4  0021f9ceb3235effd7fcde7f7538ed62  golden_retriever",
      "text/html": "<div>\n<style scoped>\n    .dataframe tbody tr th:only-of-type {\n        vertical-align: middle;\n    }\n\n    .dataframe tbody tr th {\n        vertical-align: top;\n    }\n\n    .dataframe thead th {\n        text-align: right;\n    }\n</style>\n<table border=\"1\" class=\"dataframe\">\n  <thead>\n    <tr style=\"text-align: right;\">\n      <th></th>\n      <th>id</th>\n      <th>breed</th>\n    </tr>\n  </thead>\n  <tbody>\n    <tr>\n      <th>0</th>\n      <td>000bec180eb18c7604dcecc8fe0dba07</td>\n      <td>boston_bull</td>\n    </tr>\n    <tr>\n      <th>1</th>\n      <td>001513dfcb2ffafc82cccf4d8bbaba97</td>\n      <td>dingo</td>\n    </tr>\n    <tr>\n      <th>2</th>\n      <td>001cdf01b096e06d78e9e5112d419397</td>\n      <td>pekinese</td>\n    </tr>\n    <tr>\n      <th>3</th>\n      <td>00214f311d5d2247d5dfe4fe24b2303d</td>\n      <td>bluetick</td>\n    </tr>\n    <tr>\n      <th>4</th>\n      <td>0021f9ceb3235effd7fcde7f7538ed62</td>\n      <td>golden_retriever</td>\n    </tr>\n  </tbody>\n</table>\n</div>"
     },
     "execution_count": 3,
     "metadata": {},
     "output_type": "execute_result"
    }
   ],
   "source": [
    "train_labels_df = pd.read_csv('./data/labels.csv')\n",
    "train_labels_df.head(5)"
   ]
  },
  {
   "cell_type": "code",
   "execution_count": 4,
   "metadata": {
    "pycharm": {
     "name": "#%%\n"
    }
   },
   "outputs": [],
   "source": [
    "targets_mapping = bidict(enumerate([\n",
    "    \"affenpinscher\", \"afghan_hound\", \"african_hunting_dog\", \"airedale\", \"american_staffordshire_terrier\",\n",
    "    \"appenzeller\", \"australian_terrier\", \"basenji\", \"basset\", \"beagle\", \"bedlington_terrier\",\n",
    "    \"bernese_mountain_dog\", \"black-and-tan_coonhound\", \"blenheim_spaniel\", \"bloodhound\", \"bluetick\",\n",
    "    \"border_collie\", \"border_terrier\", \"borzoi\", \"boston_bull\", \"bouvier_des_flandres\", \"boxer\",\n",
    "    \"brabancon_griffon\", \"briard\", \"brittany_spaniel\", \"bull_mastiff\", \"cairn\", \"cardigan\",\n",
    "    \"chesapeake_bay_retriever\", \"chihuahua\", \"chow\", \"clumber\", \"cocker_spaniel\", \"collie\",\n",
    "    \"curly-coated_retriever\", \"dandie_dinmont\", \"dhole\", \"dingo\", \"doberman\", \"english_foxhound\",\n",
    "    \"english_setter\", \"english_springer\", \"entlebucher\", \"eskimo_dog\", \"flat-coated_retriever\", \"french_bulldog\",\n",
    "    \"german_shepherd\", \"german_short-haired_pointer\", \"giant_schnauzer\", \"golden_retriever\", \"gordon_setter\",\n",
    "    \"great_dane\", \"great_pyrenees\", \"greater_swiss_mountain_dog\", \"groenendael\", \"ibizan_hound\", \"irish_setter\",\n",
    "    \"irish_terrier\", \"irish_water_spaniel\", \"irish_wolfhound\", \"italian_greyhound\", \"japanese_spaniel\",\n",
    "    \"keeshond\", \"kelpie\", \"kerry_blue_terrier\", \"komondor\", \"kuvasz\", \"labrador_retriever\", \"lakeland_terrier\",\n",
    "    \"leonberg\", \"lhasa\", \"malamute\", \"malinois\", \"maltese_dog\", \"mexican_hairless\", \"miniature_pinscher\",\n",
    "    \"miniature_poodle\", \"miniature_schnauzer\", \"newfoundland\", \"norfolk_terrier\", \"norwegian_elkhound\",\n",
    "    \"norwich_terrier\", \"old_english_sheepdog\", \"otterhound\", \"papillon\", \"pekinese\", \"pembroke\", \"pomeranian\",\n",
    "    \"pug\", \"redbone\", \"rhodesian_ridgeback\", \"rottweiler\", \"saint_bernard\", \"saluki\", \"samoyed\", \"schipperke\",\n",
    "    \"scotch_terrier\", \"scottish_deerhound\", \"sealyham_terrier\", \"shetland_sheepdog\", \"shih-tzu\",\n",
    "    \"siberian_husky\", \"silky_terrier\", \"soft-coated_wheaten_terrier\", \"staffordshire_bullterrier\",\n",
    "    \"standard_poodle\", \"standard_schnauzer\", \"sussex_spaniel\", \"tibetan_mastiff\", \"tibetan_terrier\",\n",
    "    \"toy_poodle\", \"toy_terrier\", \"vizsla\", \"walker_hound\", \"weimaraner\", \"welsh_springer_spaniel\",\n",
    "    \"west_highland_white_terrier\", \"whippet\", \"wire-haired_fox_terrier\", \"yorkshire_terrier\"\n",
    "]))\n",
    "\n",
    "batch_size = 32"
   ]
  },
  {
   "cell_type": "code",
   "execution_count": 45,
   "metadata": {
    "pycharm": {
     "name": "#%%\n"
    }
   },
   "outputs": [],
   "source": [
    "base_image_trans = paddle.vision.transforms.Compose([\n",
    "    paddle.vision.transforms.Resize(size=256),\n",
    "    paddle.vision.transforms.CenterCrop(size=224),\n",
    "    paddle.vision.transforms.ToTensor(),\n",
    "    paddle.vision.transforms.Normalize(mean=[0.485, 0.456, 0.406], std=[0.229, 0.224, 0.225])\n",
    "])\n",
    "extend_image_trans = paddle.vision.transforms.Compose([\n",
    "    paddle.vision.transforms.RandomResizedCrop(size=224, scale=(0.08, 1.0), ratio=(3.0 / 4.0, 4.0 / 3.0)),\n",
    "    paddle.vision.transforms.RandomHorizontalFlip(),\n",
    "    paddle.vision.ColorJitter(brightness=0.4, contrast=0.4, saturation=0.4),\n",
    "    paddle.vision.transforms.ToTensor(),\n",
    "    paddle.vision.transforms.Normalize(mean=[0.485, 0.456, 0.406], std=[0.229, 0.224, 0.225])\n",
    "])\n",
    "\n",
    "# train\n",
    "class TrainDataset(paddle.io.Dataset):\n",
    "    def __init__(self):\n",
    "        super().__init__()\n",
    "        self.records = pd.read_csv('./data/labels.csv').to_dict(orient='records')\n",
    "\n",
    "    def __getitem__(self, idx):\n",
    "        cur_id = self.records[idx]['id']\n",
    "        cur_breed = self.records[idx]['breed']\n",
    "        label = targets_mapping.inverse[cur_breed]\n",
    "        image = paddle.vision.image_load(f'./data/train/{cur_id}.jpg', backend='cv2')\n",
    "        image = extend_image_trans(image)\n",
    "        return image, label\n",
    "\n",
    "    def __len__(self):\n",
    "        return len(self.records)\n",
    "\n",
    "\n",
    "all_ds = TrainDataset()\n",
    "all_ds_split = int(len(all_ds) * 0.9)\n",
    "train_ds = paddle.io.Subset(all_ds, indices=range(0, all_ds_split))\n",
    "test_ds = paddle.io.Subset(all_ds, indices=range(all_ds_split, len(all_ds)))\n",
    "train_dl = paddle.io.DataLoader(dataset=train_ds, shuffle=True, batch_size=batch_size)\n",
    "test_dl = paddle.io.DataLoader(dataset=test_ds, shuffle=False, batch_size=batch_size)\n",
    "\n",
    "\n",
    "# test\n",
    "class TestDataset(paddle.io.Dataset):\n",
    "    def __init__(self):\n",
    "        super().__init__()\n",
    "        self.samples = []\n",
    "        path = os.path.expanduser('./data/test')\n",
    "        for root, _, fnames in sorted(os.walk(path, followlinks=True)):\n",
    "            for fname in sorted(fnames):\n",
    "                f = os.path.join(root, fname)\n",
    "                self.samples.append(f)\n",
    "\n",
    "    def __getitem__(self, idx):\n",
    "        path = self.samples[idx]\n",
    "        name = re.findall(r'(\\w*)\\.jpg', path)[0]\n",
    "        sample = paddle.vision.image_load(path, backend='cv2')\n",
    "        sample = base_image_trans(sample)\n",
    "        return sample, name\n",
    "\n",
    "    def __len__(self):\n",
    "        return len(self.samples)\n",
    "\n",
    "\n",
    "pred_dl = paddle.io.DataLoader(dataset=TestDataset(), shuffle=False, batch_size=batch_size)"
   ]
  },
  {
   "cell_type": "markdown",
   "metadata": {
    "pycharm": {
     "name": "#%% md\n"
    }
   },
   "source": [
    "## Model"
   ]
  },
  {
   "cell_type": "code",
   "execution_count": 52,
   "metadata": {
    "pycharm": {
     "name": "#%%\n"
    }
   },
   "outputs": [],
   "source": [
    "net = paddle.nn.Sequential(\n",
    "    paddle.vision.models.resnet101(pretrained=True),\n",
    "    paddle.nn.ReLU(),\n",
    "    paddle.nn.Linear(1000, 256),\n",
    "    paddle.nn.ReLU(),\n",
    "    paddle.nn.Linear(256, len(targets_mapping))\n",
    ")\n",
    "for p in net[0].parameters():\n",
    "    p.stop_gradient = True"
   ]
  },
  {
   "cell_type": "code",
   "execution_count": 53,
   "metadata": {
    "pycharm": {
     "name": "#%%\n"
    }
   },
   "outputs": [
    {
     "name": "stdout",
     "output_type": "stream",
     "text": [
      "Epoch 0: StepDecay set learning rate to 0.001.\n"
     ]
    },
    {
     "data": {
      "text/plain": "  0%|          | 0/288 [00:00<?, ?it/s]",
      "application/vnd.jupyter.widget-view+json": {
       "version_major": 2,
       "version_minor": 0,
       "model_id": "c93bb9e626244bd7bad22e2f4e6f4a6b"
      }
     },
     "metadata": {},
     "output_type": "display_data"
    },
    {
     "name": "stderr",
     "output_type": "stream",
     "text": [
      "C:\\Users\\kun\\AppData\\Local\\Programs\\Python\\Python39\\lib\\site-packages\\paddle\\nn\\layer\\norm.py:652: UserWarning: When training, we now always track global mean and variance.\n",
      "  warnings.warn(\n"
     ]
    },
    {
     "data": {
      "text/plain": "  0%|          | 0/32 [00:00<?, ?it/s]",
      "application/vnd.jupyter.widget-view+json": {
       "version_major": 2,
       "version_minor": 0,
       "model_id": "361e0fca1942486aa9e63dcd595a4ee6"
      }
     },
     "metadata": {},
     "output_type": "display_data"
    },
    {
     "data": {
      "text/plain": "  0%|          | 0/288 [00:00<?, ?it/s]",
      "application/vnd.jupyter.widget-view+json": {
       "version_major": 2,
       "version_minor": 0,
       "model_id": "8056165a408e423c8dedd08b5e233cfc"
      }
     },
     "metadata": {},
     "output_type": "display_data"
    },
    {
     "data": {
      "text/plain": "  0%|          | 0/32 [00:00<?, ?it/s]",
      "application/vnd.jupyter.widget-view+json": {
       "version_major": 2,
       "version_minor": 0,
       "model_id": "d0d4b33d88bf40f199fa46963b9ff562"
      }
     },
     "metadata": {},
     "output_type": "display_data"
    },
    {
     "data": {
      "text/plain": "  0%|          | 0/288 [00:00<?, ?it/s]",
      "application/vnd.jupyter.widget-view+json": {
       "version_major": 2,
       "version_minor": 0,
       "model_id": "e0ec39ce9b284bf99d3fa374103bcd18"
      }
     },
     "metadata": {},
     "output_type": "display_data"
    },
    {
     "data": {
      "text/plain": "  0%|          | 0/32 [00:00<?, ?it/s]",
      "application/vnd.jupyter.widget-view+json": {
       "version_major": 2,
       "version_minor": 0,
       "model_id": "bea334fb37984a398b528da552a34124"
      }
     },
     "metadata": {},
     "output_type": "display_data"
    },
    {
     "data": {
      "text/plain": "  0%|          | 0/288 [00:00<?, ?it/s]",
      "application/vnd.jupyter.widget-view+json": {
       "version_major": 2,
       "version_minor": 0,
       "model_id": "f6cf395bc42047b99e5cca8bab8f6207"
      }
     },
     "metadata": {},
     "output_type": "display_data"
    },
    {
     "data": {
      "text/plain": "  0%|          | 0/32 [00:00<?, ?it/s]",
      "application/vnd.jupyter.widget-view+json": {
       "version_major": 2,
       "version_minor": 0,
       "model_id": "799745d0640948f7a046580a74d9c07f"
      }
     },
     "metadata": {},
     "output_type": "display_data"
    },
    {
     "data": {
      "text/plain": "  0%|          | 0/288 [00:00<?, ?it/s]",
      "application/vnd.jupyter.widget-view+json": {
       "version_major": 2,
       "version_minor": 0,
       "model_id": "caccba6ff40f4e439f32629d93921120"
      }
     },
     "metadata": {},
     "output_type": "display_data"
    },
    {
     "data": {
      "text/plain": "  0%|          | 0/32 [00:00<?, ?it/s]",
      "application/vnd.jupyter.widget-view+json": {
       "version_major": 2,
       "version_minor": 0,
       "model_id": "0187cb4df546489081ea0ee468c11e5c"
      }
     },
     "metadata": {},
     "output_type": "display_data"
    },
    {
     "data": {
      "text/plain": "  0%|          | 0/288 [00:00<?, ?it/s]",
      "application/vnd.jupyter.widget-view+json": {
       "version_major": 2,
       "version_minor": 0,
       "model_id": "08735f9fa8454e78a312df5f9db37e4e"
      }
     },
     "metadata": {},
     "output_type": "display_data"
    },
    {
     "data": {
      "text/plain": "  0%|          | 0/32 [00:00<?, ?it/s]",
      "application/vnd.jupyter.widget-view+json": {
       "version_major": 2,
       "version_minor": 0,
       "model_id": "53b290c0f5fa42a585af29a25e9b1f6c"
      }
     },
     "metadata": {},
     "output_type": "display_data"
    },
    {
     "data": {
      "text/plain": "  0%|          | 0/288 [00:00<?, ?it/s]",
      "application/vnd.jupyter.widget-view+json": {
       "version_major": 2,
       "version_minor": 0,
       "model_id": "a1e416a92d9646eda28d52a33cd10704"
      }
     },
     "metadata": {},
     "output_type": "display_data"
    },
    {
     "data": {
      "text/plain": "  0%|          | 0/32 [00:00<?, ?it/s]",
      "application/vnd.jupyter.widget-view+json": {
       "version_major": 2,
       "version_minor": 0,
       "model_id": "fa5c92fd014d44f58ab0f4731fa60836"
      }
     },
     "metadata": {},
     "output_type": "display_data"
    },
    {
     "data": {
      "text/plain": "  0%|          | 0/288 [00:00<?, ?it/s]",
      "application/vnd.jupyter.widget-view+json": {
       "version_major": 2,
       "version_minor": 0,
       "model_id": "7caf8d6c6c504f9d9fc2bb666d5e30b5"
      }
     },
     "metadata": {},
     "output_type": "display_data"
    },
    {
     "data": {
      "text/plain": "  0%|          | 0/32 [00:00<?, ?it/s]",
      "application/vnd.jupyter.widget-view+json": {
       "version_major": 2,
       "version_minor": 0,
       "model_id": "ff412139589d4ee5b4ace0b546582174"
      }
     },
     "metadata": {},
     "output_type": "display_data"
    },
    {
     "data": {
      "text/plain": "  0%|          | 0/288 [00:00<?, ?it/s]",
      "application/vnd.jupyter.widget-view+json": {
       "version_major": 2,
       "version_minor": 0,
       "model_id": "245db83c93a2479e92d7121360d3c27c"
      }
     },
     "metadata": {},
     "output_type": "display_data"
    },
    {
     "data": {
      "text/plain": "  0%|          | 0/32 [00:00<?, ?it/s]",
      "application/vnd.jupyter.widget-view+json": {
       "version_major": 2,
       "version_minor": 0,
       "model_id": "9dd1a1fc8e5344988f405b4af4a4e392"
      }
     },
     "metadata": {},
     "output_type": "display_data"
    },
    {
     "data": {
      "text/plain": "  0%|          | 0/288 [00:00<?, ?it/s]",
      "application/vnd.jupyter.widget-view+json": {
       "version_major": 2,
       "version_minor": 0,
       "model_id": "8d00fb7e69fa41d8833d4449629f3758"
      }
     },
     "metadata": {},
     "output_type": "display_data"
    },
    {
     "data": {
      "text/plain": "  0%|          | 0/32 [00:00<?, ?it/s]",
      "application/vnd.jupyter.widget-view+json": {
       "version_major": 2,
       "version_minor": 0,
       "model_id": "ec086f94b7784bc9907e50c5dfcb593d"
      }
     },
     "metadata": {},
     "output_type": "display_data"
    }
   ],
   "source": [
    "scheduler = paddle.optimizer.lr.StepDecay(learning_rate=0.001, step_size=1, gamma=0.9, verbose=True)\n",
    "optimizer = paddle.optimizer.Momentum(learning_rate=scheduler, parameters=net.parameters())\n",
    "# optimizer = paddle.optimizer.Adam(parameters=[i for i in net.parameters() if i.stop_gradient == False])\n",
    "paddle.set_device('gpu')\n",
    "\n",
    "tot_epoch = 10\n",
    "for epoch in range(tot_epoch):\n",
    "    def run(data_loader, is_train=True):\n",
    "        if is_train:\n",
    "            net.train()\n",
    "        else:\n",
    "            net.eval()\n",
    "\n",
    "        pbar = tqdm(iterable=data_loader, colour='#1d3557' if is_train else '#457b9d')\n",
    "        summer = shared_code.MultiSummer()\n",
    "        for data, labels in pbar:\n",
    "            images = data.astype(paddle.float32)\n",
    "            labels = paddle.to_tensor(labels, dtype='int64').reshape((-1, 1))\n",
    "            y_hat = net(images)\n",
    "            loss = paddle.nn.functional.cross_entropy(y_hat, labels)\n",
    "            acc = paddle.metric.accuracy(y_hat, labels)\n",
    "            summer.put('loss', loss)\n",
    "            summer.put('acc', acc)\n",
    "            if is_train:\n",
    "                loss.backward()\n",
    "                optimizer.step()\n",
    "                optimizer.clear_grad()\n",
    "            pbar.set_description(f'Epoch {epoch + 1}/{tot_epoch} - '\n",
    "                                 f'loss: {summer.get(\"loss\")} '\n",
    "                                 f'acc: {summer.get(\"acc\")}')\n",
    "\n",
    "\n",
    "    run(train_dl, is_train=True)\n",
    "    run(test_dl, is_train=False)"
   ]
  },
  {
   "cell_type": "markdown",
   "source": [
    "## Predict"
   ],
   "metadata": {
    "collapsed": false,
    "pycharm": {
     "name": "#%% md\n"
    }
   }
  },
  {
   "cell_type": "code",
   "execution_count": 56,
   "outputs": [
    {
     "data": {
      "text/plain": "  0%|          | 0/324 [00:00<?, ?it/s]",
      "application/vnd.jupyter.widget-view+json": {
       "version_major": 2,
       "version_minor": 0,
       "model_id": "b78eb65b53824f8a84f63d2b4ebba20c"
      }
     },
     "metadata": {},
     "output_type": "display_data"
    }
   ],
   "source": [
    "net.eval()\n",
    "submission = []\n",
    "pbar = tqdm(iterable=pred_dl)\n",
    "for data, names in pbar:\n",
    "    images = data.astype(paddle.float32)\n",
    "    y_hat = net(images)\n",
    "    y_hat_soft = paddle.nn.functional.softmax(y_hat)\n",
    "\n",
    "    for name, pred in zip(names, y_hat_soft.numpy()):\n",
    "        cur = OrderedDict()\n",
    "        cur['id'] = name\n",
    "        for idx, score in enumerate(pred):\n",
    "            cur[targets_mapping[idx]] = score\n",
    "        submission.append(cur)"
   ],
   "metadata": {
    "collapsed": false,
    "pycharm": {
     "name": "#%%\n"
    }
   }
  },
  {
   "cell_type": "code",
   "execution_count": 57,
   "outputs": [],
   "source": [
    "pd.DataFrame(submission).to_csv('submission.csv', index=False)\n",
    "with zipfile.ZipFile('submission.zip', mode='w', compression=zipfile.ZIP_DEFLATED) as zf:\n",
    "    zf.write('submission.csv', arcname='submission.csv')"
   ],
   "metadata": {
    "collapsed": false,
    "pycharm": {
     "name": "#%%\n"
    }
   }
  }
 ],
 "metadata": {
  "kernelspec": {
   "display_name": "Python 3 (ipykernel)",
   "language": "python",
   "name": "python3"
  },
  "language_info": {
   "codemirror_mode": {
    "name": "ipython",
    "version": 3
   },
   "file_extension": ".py",
   "mimetype": "text/x-python",
   "name": "python",
   "nbconvert_exporter": "python",
   "pygments_lexer": "ipython3",
   "version": "3.9.9"
  }
 },
 "nbformat": 4,
 "nbformat_minor": 1
}