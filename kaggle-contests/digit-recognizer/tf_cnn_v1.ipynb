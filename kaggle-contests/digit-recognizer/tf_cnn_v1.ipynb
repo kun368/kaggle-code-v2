{
 "cells": [
  {
   "cell_type": "code",
   "execution_count": 1,
   "metadata": {
    "collapsed": true,
    "pycharm": {
     "name": "#%%\n"
    }
   },
   "outputs": [],
   "source": [
    "from collections import Counter\n",
    "\n",
    "import numpy as np\n",
    "import pandas as pd\n",
    "import tensorflow.keras as keras"
   ]
  },
  {
   "cell_type": "code",
   "execution_count": null,
   "outputs": [],
   "source": [
    "train_df = pd.read_csv('../input/digit-recognizer/train.csv')\n",
    "pred_df = pd.read_csv('../input/digit-recognizer/test.csv')\n",
    "sample_submission_df = pd.read_csv('../input/digit-recognizer/sample_submission.csv')\n",
    "print(train_df.shape, pred_df.shape)"
   ],
   "metadata": {
    "collapsed": false,
    "pycharm": {
     "name": "#%%\n",
     "is_executing": true
    }
   }
  },
  {
   "cell_type": "code",
   "execution_count": null,
   "outputs": [],
   "source": [
    "X = train_df.iloc[:, 1:].values.reshape((-1, 28, 28, 1)) / 255.0\n",
    "y = train_df.iloc[:, 0].values\n",
    "pred_x = pred_df.values.reshape((-1, 28, 28, 1)) / 255.0\n",
    "print(X.shape, y.shape, pred_x.shape)"
   ],
   "metadata": {
    "collapsed": false,
    "pycharm": {
     "name": "#%%\n"
    }
   }
  },
  {
   "cell_type": "code",
   "execution_count": null,
   "outputs": [],
   "source": [
    "model = keras.Sequential([\n",
    "    keras.layers.Conv2D(input_shape=X.shape[1:], kernel_size=5, filters=18, padding=\"same\",\n",
    "                        activation=keras.activations.swish),\n",
    "    keras.layers.MaxPooling2D(pool_size=(2, 2), strides=2),\n",
    "    keras.layers.Conv2D(kernel_size=5, filters=48, padding=\"valid\", activation=keras.activations.swish),\n",
    "    keras.layers.MaxPooling2D(pool_size=(2, 2), strides=2),\n",
    "    keras.layers.Conv2D(kernel_size=5, filters=360, padding=\"valid\", activation=keras.activations.swish),\n",
    "    keras.layers.Flatten(),\n",
    "    keras.layers.Dropout(0.3),\n",
    "    keras.layers.Dense(256, activation=keras.activations.swish),\n",
    "    keras.layers.Dropout(0.3),\n",
    "    keras.layers.Dense(64, activation=keras.activations.swish),\n",
    "    keras.layers.Dropout(0.3),\n",
    "    keras.layers.Dense(10, activation=keras.activations.softmax),\n",
    "])\n",
    "model.compile(loss=keras.losses.sparse_categorical_crossentropy,\n",
    "              optimizer=keras.optimizers.Nadam(),\n",
    "              metrics=[keras.metrics.sparse_categorical_accuracy])\n",
    "model.summary()\n",
    "history = model.fit(x=X,\n",
    "                    y=y,\n",
    "                    batch_size=32,\n",
    "                    epochs=7,\n",
    "                    validation_split=0.01)"
   ],
   "metadata": {
    "collapsed": false,
    "pycharm": {
     "name": "#%%\n"
    }
   }
  },
  {
   "cell_type": "code",
   "execution_count": null,
   "outputs": [],
   "source": [
    "pred_y = np.argmax(model.predict(pred_x), axis=1)\n",
    "print(Counter(pred_y))\n",
    "pd.DataFrame({'ImageId': range(1, len(pred_y) + 1), 'Label': pred_y}).to_csv('submit.csv', index=False)"
   ],
   "metadata": {
    "collapsed": false,
    "pycharm": {
     "name": "#%%\n"
    }
   }
  }
 ],
 "metadata": {
  "kernelspec": {
   "display_name": "Python 3",
   "language": "python",
   "name": "python3"
  },
  "language_info": {
   "codemirror_mode": {
    "name": "ipython",
    "version": 2
   },
   "file_extension": ".py",
   "mimetype": "text/x-python",
   "name": "python",
   "nbconvert_exporter": "python",
   "pygments_lexer": "ipython2",
   "version": "2.7.6"
  }
 },
 "nbformat": 4,
 "nbformat_minor": 0
}