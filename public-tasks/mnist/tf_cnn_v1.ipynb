{
 "cells": [
  {
   "cell_type": "markdown",
   "source": [
    "## handson-ml2-14-mnist"
   ],
   "metadata": {
    "collapsed": false,
    "pycharm": {
     "name": "#%% md\n"
    }
   }
  },
  {
   "cell_type": "code",
   "execution_count": 1,
   "metadata": {
    "collapsed": true
   },
   "outputs": [],
   "source": [
    "import numpy as np\n",
    "import tensorflow.keras as keras"
   ]
  },
  {
   "cell_type": "code",
   "execution_count": 3,
   "outputs": [
    {
     "name": "stdout",
     "output_type": "stream",
     "text": [
      "(70000, 28, 28, 1) (70000,)\n"
     ]
    }
   ],
   "source": [
    "from sklearn.datasets import fetch_openml\n",
    "\n",
    "mnist = fetch_openml('mnist_784', version=1)\n",
    "X, y = mnist[\"data\"].values, mnist[\"target\"].values\n",
    "X = X.reshape((-1, 28, 28, 1)) / 255.0\n",
    "y = y.astype(np.int32)\n",
    "print(X.shape, y.shape)"
   ],
   "metadata": {
    "collapsed": false,
    "pycharm": {
     "name": "#%%\n"
    }
   }
  },
  {
   "cell_type": "code",
   "execution_count": 4,
   "outputs": [
    {
     "name": "stdout",
     "output_type": "stream",
     "text": [
      "Model: \"sequential\"\n",
      "_________________________________________________________________\n",
      " Layer (type)                Output Shape              Param #   \n",
      "=================================================================\n",
      " conv2d (Conv2D)             (None, 28, 28, 6)         156       \n",
      "                                                                 \n",
      " max_pooling2d (MaxPooling2D  (None, 14, 14, 6)        0         \n",
      " )                                                               \n",
      "                                                                 \n",
      " conv2d_1 (Conv2D)           (None, 10, 10, 16)        2416      \n",
      "                                                                 \n",
      " max_pooling2d_1 (MaxPooling  (None, 5, 5, 16)         0         \n",
      " 2D)                                                             \n",
      "                                                                 \n",
      " conv2d_2 (Conv2D)           (None, 1, 1, 120)         48120     \n",
      "                                                                 \n",
      " flatten (Flatten)           (None, 120)               0         \n",
      "                                                                 \n",
      " dense (Dense)               (None, 84)                10164     \n",
      "                                                                 \n",
      " dense_1 (Dense)             (None, 10)                850       \n",
      "                                                                 \n",
      "=================================================================\n",
      "Total params: 61,706\n",
      "Trainable params: 61,706\n",
      "Non-trainable params: 0\n",
      "_________________________________________________________________\n",
      "Epoch 1/3\n",
      "1750/1750 [==============================] - 11s 5ms/step - loss: 0.1906 - sparse_categorical_accuracy: 0.9406 - val_loss: 0.0555 - val_sparse_categorical_accuracy: 0.9830\n",
      "Epoch 2/3\n",
      "1750/1750 [==============================] - 8s 5ms/step - loss: 0.0540 - sparse_categorical_accuracy: 0.9826 - val_loss: 0.0410 - val_sparse_categorical_accuracy: 0.9871\n",
      "Epoch 3/3\n",
      "1750/1750 [==============================] - 8s 5ms/step - loss: 0.0383 - sparse_categorical_accuracy: 0.9876 - val_loss: 0.0358 - val_sparse_categorical_accuracy: 0.9887\n"
     ]
    }
   ],
   "source": [
    "model = keras.Sequential([\n",
    "    keras.layers.Conv2D(input_shape=X.shape[1:], kernel_size=5, filters=6, padding=\"same\",\n",
    "                        activation=keras.activations.swish),\n",
    "    keras.layers.MaxPooling2D(pool_size=(2, 2), strides=2),\n",
    "    keras.layers.Conv2D(kernel_size=5, filters=16, padding=\"valid\", activation=keras.activations.swish),\n",
    "    keras.layers.MaxPooling2D(pool_size=(2, 2), strides=2),\n",
    "    keras.layers.Conv2D(kernel_size=5, filters=120, padding=\"valid\", activation=keras.activations.swish),\n",
    "    keras.layers.Flatten(),\n",
    "    keras.layers.Dense(84, activation=keras.activations.swish),\n",
    "    keras.layers.Dense(10, activation=keras.activations.softmax),\n",
    "])\n",
    "\n",
    "model.compile(loss=keras.losses.sparse_categorical_crossentropy,\n",
    "              optimizer=keras.optimizers.Nadam(),\n",
    "              metrics=[keras.metrics.sparse_categorical_accuracy])\n",
    "\n",
    "model.summary()\n",
    "history = model.fit(\n",
    "    x=X,\n",
    "    y=y,\n",
    "    batch_size=32,\n",
    "    epochs=3,\n",
    "    validation_split=0.2\n",
    ")"
   ],
   "metadata": {
    "collapsed": false,
    "pycharm": {
     "name": "#%%\n"
    }
   }
  },
  {
   "cell_type": "code",
   "execution_count": null,
   "outputs": [],
   "source": [],
   "metadata": {
    "collapsed": false,
    "pycharm": {
     "name": "#%%\n"
    }
   }
  }
 ],
 "metadata": {
  "kernelspec": {
   "display_name": "Python 3",
   "language": "python",
   "name": "python3"
  },
  "language_info": {
   "codemirror_mode": {
    "name": "ipython",
    "version": 2
   },
   "file_extension": ".py",
   "mimetype": "text/x-python",
   "name": "python",
   "nbconvert_exporter": "python",
   "pygments_lexer": "ipython2",
   "version": "2.7.6"
  }
 },
 "nbformat": 4,
 "nbformat_minor": 0
}