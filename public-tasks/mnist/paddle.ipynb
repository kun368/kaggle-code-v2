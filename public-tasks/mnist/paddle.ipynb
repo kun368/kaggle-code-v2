{
 "cells": [
  {
   "cell_type": "markdown",
   "metadata": {
    "collapsed": false,
    "pycharm": {
     "name": "#%% md\n"
    }
   },
   "source": [
    "## 引入包"
   ]
  },
  {
   "cell_type": "code",
   "execution_count": 1,
   "metadata": {
    "collapsed": false,
    "pycharm": {
     "name": "#%%\n"
    }
   },
   "outputs": [],
   "source": [
    "import matplotlib.pyplot as plt\n",
    "import paddle\n",
    "import paddle.nn.functional as F\n",
    "from tqdm.notebook import tqdm\n",
    "from visualdl import LogWriter"
   ]
  },
  {
   "cell_type": "markdown",
   "metadata": {
    "collapsed": false
   },
   "source": [
    "## 数据预处理"
   ]
  },
  {
   "cell_type": "code",
   "execution_count": 2,
   "metadata": {
    "collapsed": false,
    "pycharm": {
     "name": "#%%\n"
    }
   },
   "outputs": [
    {
     "data": {
      "text/plain": "<Figure size 216x216 with 1 Axes>",
      "image/png": "[encoded data removed]"
     },
     "metadata": {
      "needs_background": "light"
     },
     "output_type": "display_data"
    }
   ],
   "source": [
    "train_dataset = paddle.vision.datasets.MNIST(mode='train')\n",
    "\n",
    "def show_image(image):\n",
    "    plt.figure(figsize=(3, 3))\n",
    "    plt.imshow(image)\n",
    "    plt.show()\n",
    "\n",
    "show_image(train_dataset[0][0])"
   ]
  },
  {
   "cell_type": "markdown",
   "metadata": {
    "collapsed": false
   },
   "source": [
    "## 模型&训练"
   ]
  },
  {
   "cell_type": "code",
   "execution_count": 3,
   "outputs": [],
   "source": [
    "visual_dl_writer = LogWriter(logdir=\"./visual_dl\")\n",
    "\n",
    "\n",
    "class Summer:\n",
    "    def __init__(self):\n",
    "        self.sum_num = 0.0\n",
    "        self.sum_weight = 0.0\n",
    "\n",
    "    @staticmethod\n",
    "    def convert(n):\n",
    "        from typing import Iterable\n",
    "        if isinstance(n, Iterable):\n",
    "            n = next(iter(n))\n",
    "        return float(n)\n",
    "\n",
    "    def add(self, num, weight=1.0):\n",
    "        self.sum_num += self.convert(num)\n",
    "        self.sum_weight += self.convert(weight)\n",
    "\n",
    "    def __str__(self):\n",
    "        return \"{:.4f}\".format(self.sum_num / self.sum_weight)\n"
   ],
   "metadata": {
    "collapsed": false,
    "pycharm": {
     "name": "#%%\n"
    }
   }
  },
  {
   "cell_type": "code",
   "execution_count": 4,
   "metadata": {
    "collapsed": false,
    "pycharm": {
     "name": "#%%\n"
    }
   },
   "outputs": [
    {
     "name": "stdout",
     "output_type": "stream",
     "text": [
      "The loss value printed in the log is the current step, and the metric is the average value of previous steps.\n",
      "Epoch 1/3\n"
     ]
    },
    {
     "name": "stderr",
     "output_type": "stream",
     "text": [
      "C:\\Users\\kun\\AppData\\Local\\Programs\\Python\\Python39\\lib\\site-packages\\paddle\\fluid\\layers\\utils.py:77: DeprecationWarning: Using or importing the ABCs from 'collections' instead of from 'collections.abc' is deprecated since Python 3.3, and in 3.10 it will stop working\n",
      "  return (isinstance(seq, collections.Sequence) and\n"
     ]
    },
    {
     "name": "stdout",
     "output_type": "stream",
     "text": [
      "step 938/938 [==============================] - loss: 0.0199 - acc: 0.9434 - 29ms/step          \n",
      "Epoch 2/3\n",
      "step 938/938 [==============================] - loss: 0.0134 - acc: 0.9777 - 23ms/step          \n",
      "Epoch 3/3\n",
      "step 938/938 [==============================] - loss: 0.0411 - acc: 0.9813 - 34ms/step          \n",
      "Eval begin...\n",
      "step 10000/10000 [==============================] - loss: 3.5643e-05 - acc: 0.9853 - 3ms/step          \n",
      "Eval samples: 10000\n"
     ]
    },
    {
     "data": {
      "text/plain": "{'loss': [3.564294e-05], 'acc': 0.9853}"
     },
     "execution_count": 4,
     "metadata": {},
     "output_type": "execute_result"
    }
   ],
   "source": [
    "train_dataset = paddle.vision.datasets.MNIST(mode='train', transform=paddle.vision.transforms.ToTensor())\n",
    "val_dataset = paddle.vision.datasets.MNIST(mode='test', transform=paddle.vision.transforms.ToTensor())\n",
    "\n",
    "model = paddle.Model(paddle.vision.models.LeNet())\n",
    "model.prepare(\n",
    "    optimizer=paddle.optimizer.Adam(parameters=model.parameters()),\n",
    "    loss=paddle.nn.CrossEntropyLoss(),\n",
    "    metrics=[paddle.metric.Accuracy()]\n",
    ")\n",
    "\n",
    "model.fit(train_dataset,\n",
    "          epochs=3,\n",
    "          batch_size=64,\n",
    "          verbose=1)\n",
    "\n",
    "model.evaluate(val_dataset, verbose=1)"
   ]
  },
  {
   "cell_type": "code",
   "execution_count": 5,
   "metadata": {
    "collapsed": false,
    "pycharm": {
     "name": "#%%\n"
    }
   },
   "outputs": [
    {
     "data": {
      "text/plain": "  0%|          | 0/1875 [00:00<?, ?it/s]",
      "application/vnd.jupyter.widget-view+json": {
       "version_major": 2,
       "version_minor": 0,
       "model_id": "b71990a127f64db9916c552f8dec38bc"
      }
     },
     "metadata": {},
     "output_type": "display_data"
    },
    {
     "data": {
      "text/plain": "  0%|          | 0/313 [00:00<?, ?it/s]",
      "application/vnd.jupyter.widget-view+json": {
       "version_major": 2,
       "version_minor": 0,
       "model_id": "7129559bbf554ec98f307aa3c72b3245"
      }
     },
     "metadata": {},
     "output_type": "display_data"
    },
    {
     "data": {
      "text/plain": "  0%|          | 0/1875 [00:00<?, ?it/s]",
      "application/vnd.jupyter.widget-view+json": {
       "version_major": 2,
       "version_minor": 0,
       "model_id": "d5ed31afe60a475f9fcdfface9141014"
      }
     },
     "metadata": {},
     "output_type": "display_data"
    },
    {
     "data": {
      "text/plain": "  0%|          | 0/313 [00:00<?, ?it/s]",
      "application/vnd.jupyter.widget-view+json": {
       "version_major": 2,
       "version_minor": 0,
       "model_id": "01fce38fe1ac43acac5277c1f3ce4c82"
      }
     },
     "metadata": {},
     "output_type": "display_data"
    },
    {
     "data": {
      "text/plain": "  0%|          | 0/1875 [00:00<?, ?it/s]",
      "application/vnd.jupyter.widget-view+json": {
       "version_major": 2,
       "version_minor": 0,
       "model_id": "071d52064e92467aba06fb299a1f99d6"
      }
     },
     "metadata": {},
     "output_type": "display_data"
    },
    {
     "data": {
      "text/plain": "  0%|          | 0/313 [00:00<?, ?it/s]",
      "application/vnd.jupyter.widget-view+json": {
       "version_major": 2,
       "version_minor": 0,
       "model_id": "dab9173aecc14a0d89cfdb510637c123"
      }
     },
     "metadata": {},
     "output_type": "display_data"
    }
   ],
   "source": [
    "batch_size = 32\n",
    "train_loader = paddle.io.DataLoader(\n",
    "    dataset=paddle.vision.datasets.MNIST(mode='train', transform=paddle.vision.transforms.ToTensor()),\n",
    "    batch_size=batch_size,\n",
    "    shuffle=True\n",
    ")\n",
    "test_loader = paddle.io.DataLoader(\n",
    "    dataset=paddle.vision.datasets.MNIST(mode='test', transform=paddle.vision.transforms.ToTensor()),\n",
    "    batch_size=batch_size,\n",
    "    shuffle=False\n",
    ")\n",
    "paddle.set_device('cpu')\n",
    "model = paddle.vision.models.LeNet()\n",
    "optimizer = paddle.optimizer.Adam(parameters=model.parameters())\n",
    "\n",
    "tot_epoch = 3\n",
    "for epoch in range(tot_epoch):\n",
    "\n",
    "    def run(data_loader, colour='#1d3557', is_train=True):\n",
    "        if is_train:\n",
    "            model.train()\n",
    "        else:\n",
    "            model.eval()\n",
    "        pbar = tqdm(iterable=enumerate(data_loader), total=len(data_loader), colour=colour)\n",
    "        loss_summer = Summer()\n",
    "        acc_summer = Summer()\n",
    "        for batch_id, (data, labels) in pbar:\n",
    "            images = data.astype(paddle.float32)\n",
    "            y_hat = model(images)\n",
    "            loss = F.cross_entropy(y_hat, labels)\n",
    "            acc = paddle.metric.accuracy(y_hat, labels)\n",
    "            loss_summer.add(loss)\n",
    "            acc_summer.add(acc)\n",
    "            if is_train:\n",
    "                loss.backward()\n",
    "                optimizer.step()\n",
    "                optimizer.clear_grad()\n",
    "            pbar.set_description(f'Epoch {epoch + 1}/{tot_epoch} T - '\n",
    "                                 f'loss: {loss_summer} '\n",
    "                                 f'acc: {acc_summer}')\n",
    "\n",
    "\n",
    "    run(train_loader, '#1d3557', is_train=True)\n",
    "    run(test_loader, '#457b9d', is_train=False)\n"
   ]
  },
  {
   "cell_type": "code",
   "execution_count": null,
   "outputs": [],
   "source": [],
   "metadata": {
    "collapsed": false,
    "pycharm": {
     "name": "#%%\n"
    }
   }
  }
 ],
 "metadata": {
  "kernelspec": {
   "display_name": "Python 3",
   "language": "python",
   "name": "python3"
  },
  "language_info": {
   "codemirror_mode": {
    "name": "ipython",
    "version": 3
   },
   "file_extension": ".py",
   "mimetype": "text/x-python",
   "name": "python",
   "nbconvert_exporter": "python",
   "pygments_lexer": "ipython3",
   "version": "3.9.9"
  }
 },
 "nbformat": 4,
 "nbformat_minor": 0
}