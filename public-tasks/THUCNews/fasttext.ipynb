{
 "cells": [
  {
   "cell_type": "code",
   "execution_count": 40,
   "metadata": {
    "collapsed": true
   },
   "outputs": [],
   "source": [
    "import fasttext.util\n",
    "from sklearn.metrics import classification_report\n",
    "\n",
    "from utils.common import compress_read"
   ]
  },
  {
   "cell_type": "code",
   "execution_count": 41,
   "outputs": [],
   "source": [
    "train_df = compress_read('./data/train_shuffle_df.parquet')\n",
    "val_df = compress_read('./data/val_df.parquet')\n",
    "test_df = compress_read('./data/test_df.parquet')"
   ],
   "metadata": {
    "collapsed": false,
    "pycharm": {
     "name": "#%%\n"
    }
   }
  },
  {
   "cell_type": "code",
   "execution_count": 42,
   "outputs": [],
   "source": [
    "with open('./data/ft_train.txt', 'w') as f:\n",
    "    for i in train_df.to_dict(orient='records'):\n",
    "        words = str(i['words']).replace(',', ' ')\n",
    "        label = f'''__label__{i['label']}'''\n",
    "        f.write(f'''{label}\\t{words}\\n''')"
   ],
   "metadata": {
    "collapsed": false,
    "pycharm": {
     "name": "#%%\n"
    }
   }
  },
  {
   "cell_type": "code",
   "execution_count": 53,
   "outputs": [],
   "source": [
    "model = fasttext.train_supervised(\n",
    "    './data/ft_train.txt',\n",
    "    label_prefix=\"__label__\",\n",
    "    lr=0.1,\n",
    "    epoch=5,\n",
    "    verbose=2,\n",
    "    minCount=3,\n",
    "    wordNgrams=2,\n",
    "    loss='hs'\n",
    ")"
   ],
   "metadata": {
    "collapsed": false,
    "pycharm": {
     "name": "#%%\n"
    }
   }
  },
  {
   "cell_type": "code",
   "execution_count": 54,
   "outputs": [
    {
     "name": "stdout",
     "output_type": "stream",
     "text": [
      "              precision    recall  f1-score   support\n",
      "\n",
      "  __label__0     0.9043    0.8696    0.8866      3574\n",
      "  __label__1     0.9379    0.8854    0.9109       768\n",
      " __label__10     0.9739    0.9740    0.9739     12542\n",
      " __label__11     0.9324    0.8912    0.9113       294\n",
      " __label__12     0.8831    0.8334    0.8575      2347\n",
      " __label__13     0.9301    0.9460    0.9380      8860\n",
      "  __label__2     0.8973    0.8753    0.8862      1877\n",
      "  __label__3     0.9201    0.9340    0.9270     14990\n",
      "  __label__4     0.9014    0.8916    0.8965      3035\n",
      "  __label__5     0.9391    0.9441    0.9416      3937\n",
      "  __label__6     0.9297    0.9253    0.9275     15608\n",
      "  __label__7     0.8836    0.8918    0.8877      4776\n",
      "  __label__8     0.8783    0.8473    0.8625      1303\n",
      "  __label__9     0.8902    0.9018    0.8960      6089\n",
      "\n",
      "    accuracy                         0.9246     80000\n",
      "   macro avg     0.9144    0.9008    0.9074     80000\n",
      "weighted avg     0.9245    0.9246    0.9245     80000\n",
      "\n"
     ]
    }
   ],
   "source": [
    "y_true = []\n",
    "y_pred = []\n",
    "with open('./data/ft_val.txt', 'w') as f:\n",
    "    for i in val_df.sample(frac=1.0).to_dict(orient='records'):\n",
    "        words = str(i['words']).replace(',', ' ')\n",
    "        label = f'''__label__{i['label']}'''\n",
    "        label_hat = model.predict(words, k=1)[0][0]\n",
    "        # print(label, label_hat)\n",
    "        y_true.append(label)\n",
    "        y_pred.append(label_hat)\n",
    "\n",
    "print(classification_report(y_true, y_pred, digits=4))"
   ],
   "metadata": {
    "collapsed": false,
    "pycharm": {
     "name": "#%%\n"
    }
   }
  },
  {
   "cell_type": "code",
   "execution_count": null,
   "outputs": [],
   "source": [],
   "metadata": {
    "collapsed": false,
    "pycharm": {
     "name": "#%%\n"
    }
   }
  }
 ],
 "metadata": {
  "kernelspec": {
   "display_name": "Python 3",
   "language": "python",
   "name": "python3"
  },
  "language_info": {
   "codemirror_mode": {
    "name": "ipython",
    "version": 2
   },
   "file_extension": ".py",
   "mimetype": "text/x-python",
   "name": "python",
   "nbconvert_exporter": "python",
   "pygments_lexer": "ipython2",
   "version": "2.7.6"
  }
 },
 "nbformat": 4,
 "nbformat_minor": 0
}